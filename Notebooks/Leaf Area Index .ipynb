{
 "cells": [
  {
   "cell_type": "code",
   "execution_count": 61,
   "metadata": {
    "collapsed": false
   },
   "outputs": [],
   "source": [
    "import os\n",
    "import numpy as np\n",
    "import plotly.plotly as py\n",
    "import pandas as pd"
   ]
  },
  {
   "cell_type": "code",
   "execution_count": 129,
   "metadata": {
    "collapsed": false
   },
   "outputs": [],
   "source": [
    "def process_result_by_country(path_to_scilab_results, parameter_of_interest):\n",
    "    listOfResults=os.listdir(path_to_scilab_results)\n",
    "    path_to_reference_file = path_to_scilab_results + str(listOfResults[-2])\n",
    "    reference_file=open(path_to_reference_file)\n",
    "    listOfRegions=reference_file.read().split(\"\\n\")\n",
    "    \n",
    "    #Initialize the dictionary\n",
    "    countries={}\n",
    "\n",
    "    for line in listOfRegions:\n",
    "        if listOfRegions[-1]==line:\n",
    "            break\n",
    "\n",
    "        path_to_parameter_file = path_to_scilab_results + \\\n",
    "                                 str(listOfRegions.index(line)+1) + \\\n",
    "                                 parameter_of_interest + \".sci\"            \n",
    "\n",
    "        last_reading = float(open(path_to_parameter_file).read().split(\"\\n\")[-2])\n",
    "\n",
    "        weather_file_name = line.split(\"/\")[-1] \n",
    "        country_code = weather_file_name.split(\"_\")[0]\n",
    "\n",
    "        if country_code in countries:\n",
    "            countries[country_code].append(last_reading)\n",
    "        else:\n",
    "            countries[country_code] = [last_reading]\n",
    "\n",
    "    return countries"
   ]
  },
  {
   "cell_type": "code",
   "execution_count": 134,
   "metadata": {
    "collapsed": false
   },
   "outputs": [],
   "source": [
    "dict_countries = process_result_by_country(\"./Data/Early Results/\",\"LeafAreaIndex\")\n",
    "\n",
    "data_summed = {}\n",
    "for keys, values in dict_countries.items():\n",
    "    data_summed[keys] = sum(values)\n",
    "   \n",
    "data_weighted = {}\n",
    "max_key, max_value = max(data_summed.iteritems(), key=lambda x:x[1])\n",
    "\n",
    "for keys, values in data_summed.items():\n",
    "    data_weighted[keys] = values / max_value"
   ]
  },
  {
   "cell_type": "code",
   "execution_count": 132,
   "metadata": {
    "collapsed": false
   },
   "outputs": [],
   "source": [
    "df = pd.read_csv('https://raw.githubusercontent.com/plotly/datasets/master/2014_world_gdp_with_codes.csv')\n",
    "\n",
    "df.loc[:,'GDP (BILLIONS)'] = 0\n",
    "\n",
    "for index, value in data_weighted.items():\n",
    "    df.ix[df.CODE == index, 'GDP (BILLIONS)'] = value\n",
    "    "
   ]
  },
  {
   "cell_type": "code",
   "execution_count": 123,
   "metadata": {
    "collapsed": false
   },
   "outputs": [
    {
     "name": "stdout",
     "output_type": "stream",
     "text": [
      "High five! You successfuly sent some data to your account on plotly. View your plot in your browser at https://plot.ly/~edcafenet/0 or inside your plot.ly account where it is named 'd3-world-map'\n"
     ]
    },
    {
     "data": {
      "text/html": [
       "<iframe id=\"igraph\" scrolling=\"no\" style=\"border:none;\" seamless=\"seamless\" src=\"https://plot.ly/~edcafenet/0.embed\" height=\"525px\" width=\"100%\"></iframe>"
      ],
      "text/plain": [
       "<plotly.tools.PlotlyDisplay object>"
      ]
     },
     "execution_count": 123,
     "metadata": {},
     "output_type": "execute_result"
    }
   ],
   "source": [
    "data = [ dict(\n",
    "        type = 'choropleth',\n",
    "        locations = df['CODE'],\n",
    "        z = df['GDP (BILLIONS)'],\n",
    "        text = df['COUNTRY'],\n",
    "        colorscale = [[0,\"rgb(5, 10, 172)\"],[0.35,\"rgb(40, 60, 190)\"],[0.5,\"rgb(70, 100, 245)\"],\\\n",
    "            [0.6,\"rgb(90, 120, 245)\"],[0.7,\"rgb(106, 137, 247)\"],[1,\"rgb(220, 220, 220)\"]],\n",
    "        autocolorscale = False,\n",
    "        reversescale = True,\n",
    "        marker = dict(\n",
    "            line = dict (\n",
    "                color = 'rgb(180,180,180)',\n",
    "                width = 0.5\n",
    "            ) ),\n",
    "        colorbar = dict(\n",
    "            autotick = False,\n",
    "            tickprefix = 'Production Ratio ',\n",
    "            title = 'Leaf Area Index'),\n",
    "      ) ]\n",
    "\n",
    "layout = dict(\n",
    "    title = 'Simulated Cotton Production',\n",
    "    geo = dict(\n",
    "        showframe = False,\n",
    "        showcoastlines = False,\n",
    "        projection = dict(\n",
    "            type = 'Mercator'\n",
    "        )\n",
    "    )\n",
    ")\n",
    "\n",
    "fig = dict( data=data, layout=layout )\n",
    "py.sign_in('edcafenet', 'izgpN2YqqDk7tqDZGLEw')\n",
    "py.iplot( fig, validate=False, filename='d3-world-map' )\n"
   ]
  },
  {
   "cell_type": "code",
   "execution_count": null,
   "metadata": {
    "collapsed": true
   },
   "outputs": [],
   "source": []
  }
 ],
 "metadata": {
  "anaconda-cloud": {},
  "kernelspec": {
   "display_name": "Python [conda env:py2.7]",
   "language": "python",
   "name": "conda-env-py2.7-py"
  },
  "language_info": {
   "codemirror_mode": {
    "name": "ipython",
    "version": 2
   },
   "file_extension": ".py",
   "mimetype": "text/x-python",
   "name": "python",
   "nbconvert_exporter": "python",
   "pygments_lexer": "ipython2",
   "version": "2.7.12"
  }
 },
 "nbformat": 4,
 "nbformat_minor": 2
}
